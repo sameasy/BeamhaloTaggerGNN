{
 "cells": [
  {
   "cell_type": "code",
   "execution_count": null,
   "metadata": {},
   "outputs": [],
   "source": [
    "import uproot3\n",
    "import numpy as np\n",
    "from tqdm import tqdm as tqdm\n",
    "import matplotlib.pyplot as plt\n",
    "import os\n",
    "import os.path as osp\n",
    "import awkward0\n",
    "import math\n",
    "import torch_geometric\n",
    "import torch\n",
    "from torch_geometric.data import Data\n",
    "import glob"
   ]
  },
  {
   "cell_type": "code",
   "execution_count": null,
   "metadata": {},
   "outputs": [],
   "source": [
    "#filename = '/grid_mnt/data__data.polcms/cms/sghosh/DATABH/minitree_ztonunu_out.root'\n",
    "filename = '/grid_mnt/data__data.polcms/cms/sghosh/DATABH/minitree_BH_1to4_6mayprod.root'\n",
    "test = uproot3.open(filename)[\"training\"]#['HGCALskimmedTree']#['hgc']\n",
    "print(test.numentries)\n"
   ]
  },
  {
   "cell_type": "code",
   "execution_count": null,
   "metadata": {},
   "outputs": [],
   "source": [
    "### EE\n",
    "EErh_x = test['matchEErhX'].array()\n",
    "EErh_y = test['matchEErhY'].array()\n",
    "EErh_z = test['matchEErhZ'].array()\n",
    "EErh_z.content[EErh_z.content <0] *= -1\n",
    "EErh_e = test['matchEErhE'].array()\n",
    "\n",
    "### ES\n",
    "ESrh_x = test['matchESrhX'].array()\n",
    "ESrh_y = test['matchESrhY'].array()\n",
    "ESrh_z = test['matchESrhZ'].array()\n",
    "ESrh_z.content[ESrh_z.content <0] *= -1\n",
    "ESrh_e = test['matchESrhE'].array()\n",
    "\n",
    "\n",
    "ESrhDR_x = test['matchdRESrhX'].array()\n",
    "ESrhDR_y = test['matchdRESrhY'].array()\n",
    "ESrhDR_z = test['matchdRESrhZ'].array()\n",
    "ESrhDR_z.content[ESrhDR_z.content <0] *= -1\n",
    "ESrhDR_e = test['matchdRESrhE'].array()\n",
    "\n",
    "## HE\n",
    "HErh_x = test['matchHBHErhX'].array()\n",
    "HErh_y = test['matchHBHErhY'].array()\n",
    "HErh_z = test['matchHBHErhZ'].array()\n",
    "HErh_z.content[HErh_z.content <0] *= -1\n",
    "HErh_e = test['matchHBHErhE'].array()\n",
    "\n",
    "HErhDR_x = test['matchdRHBHErhX'].array()\n",
    "HErhDR_y = test['matchdRHBHErhY'].array()\n",
    "HErhDR_z = test['matchdRHBHErhZ'].array()\n",
    "HErhDR_z.content[HErhDR_z.content <0] *= -1\n",
    "HErhDR_e = test['matchdRHBHErhE'].array()\n"
   ]
  },
  {
   "cell_type": "code",
   "execution_count": null,
   "metadata": {},
   "outputs": [],
   "source": [
    "for evt in tqdm(range(EErh_x.shape[0])):\n",
    "    \n",
    "    \n",
    "    EEhits = np.vstack((EErh_x[evt],EErh_y[evt],EErh_z[evt],EErh_e[evt])).T\n",
    "    EShits = np.vstack((ESrh_x[evt],ESrh_y[evt],ESrh_z[evt],ESrh_e[evt])).T\n",
    "    ESDRhits = np.vstack((ESrhDR_x[evt],ESrhDR_y[evt],ESrhDR_z[evt],ESrhDR_e[evt])).T\n",
    "    HEhits = np.vstack((HErh_x[evt],HErh_y[evt],HErh_z[evt],HErh_e[evt])).T\n",
    "    HEDRhits = np.vstack((HErhDR_x[evt],HErhDR_y[evt],HErhDR_z[evt],HErhDR_e[evt])).T\n",
    "    \n",
    "    \n",
    "    allhitsconcat = np.vstack((EEhits,EShits,ESDRhits,HEhits,HEDRhits))\n",
    "    \n",
    "\n",
    "\n",
    "\n",
    "    raw_dir='/grid_mnt/data__data.polcms/cms/sghosh/DATABH/'\n",
    "    processed_dir = raw_dir + 'GRAPH_BH_noscale/'\n",
    "    \n",
    "    \n",
    "    import os\n",
    "    import os.path as osp\n",
    "    if not os.path.exists(processed_dir):\n",
    "        os.makedirs(processed_dir)\n",
    "        \n",
    "    torch.save(Data(x = torch.tensor(allhitsconcat, dtype=torch.float32)),\n",
    "                osp.join(processed_dir, 'data_{}.pt'.format(evt)))\n",
    "                       \n",
    "             "
   ]
  }
 ],
 "metadata": {
  "kernelspec": {
   "display_name": "torchtest",
   "language": "python",
   "name": "torchtest"
  },
  "language_info": {
   "codemirror_mode": {
    "name": "ipython",
    "version": 3
   },
   "file_extension": ".py",
   "mimetype": "text/x-python",
   "name": "python",
   "nbconvert_exporter": "python",
   "pygments_lexer": "ipython3",
   "version": "3.6.13"
  }
 },
 "nbformat": 4,
 "nbformat_minor": 2
}
